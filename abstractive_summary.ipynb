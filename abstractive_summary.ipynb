{
  "nbformat": 4,
  "nbformat_minor": 0,
  "metadata": {
    "colab": {
      "provenance": [],
      "authorship_tag": "ABX9TyNegdOjnd32ERJm1TCjKZpy"
    },
    "kernelspec": {
      "name": "python3",
      "display_name": "Python 3"
    },
    "language_info": {
      "name": "python"
    }
  },
  "cells": [
    {
      "cell_type": "code",
      "execution_count": 2,
      "metadata": {
        "id": "ObTWEWi2g1VL"
      },
      "outputs": [],
      "source": [
        "!pip install transformers --quiet\n",
        "!pip install sacremoses --quiet"
      ]
    },
    {
      "cell_type": "code",
      "source": [
        "import transformers\n",
        "import pandas as pd\n",
        "\n",
        "import warnings\n",
        "warnings.filterwarnings('ignore')\n",
        "import torch\n",
        "from transformers import AutoTokenizer, AutoModelForSeq2SeqLM\n",
        "from transformers import RobertaTokenizerFast\n",
        "from transformers import BartTokenizer, BartForConditionalGeneration\n",
        "from transformers import RobertaTokenizer, RobertaForCausalLM\n",
        "from transformers import XLMTokenizer, XLMWithLMHeadModel"
      ],
      "metadata": {
        "id": "3hYcNsnNKYub"
      },
      "execution_count": 3,
      "outputs": []
    },
    {
      "cell_type": "code",
      "source": [
        "# Load the news articles into a pandas dataframe\n",
        "df = pd.read_csv('100articles.csv')"
      ],
      "metadata": {
        "id": "13yjjskhKj_h"
      },
      "execution_count": 4,
      "outputs": []
    },
    {
      "cell_type": "code",
      "source": [
        "df.info()"
      ],
      "metadata": {
        "colab": {
          "base_uri": "https://localhost:8080/"
        },
        "id": "q0cfeFe-L24d",
        "outputId": "a27e1a55-67eb-45c2-a74f-7331aeaf218f"
      },
      "execution_count": 4,
      "outputs": [
        {
          "output_type": "stream",
          "name": "stdout",
          "text": [
            "<class 'pandas.core.frame.DataFrame'>\n",
            "RangeIndex: 100 entries, 0 to 99\n",
            "Data columns (total 11 columns):\n",
            " #   Column        Non-Null Count  Dtype  \n",
            "---  ------        --------------  -----  \n",
            " 0   Unnamed: 0.1  100 non-null    int64  \n",
            " 1   Unnamed: 0    100 non-null    int64  \n",
            " 2   id            100 non-null    int64  \n",
            " 3   title         100 non-null    object \n",
            " 4   publication   100 non-null    object \n",
            " 5   author        98 non-null     object \n",
            " 6   date          100 non-null    object \n",
            " 7   year          100 non-null    float64\n",
            " 8   month         100 non-null    float64\n",
            " 9   url           0 non-null      float64\n",
            " 10  content       100 non-null    object \n",
            "dtypes: float64(3), int64(3), object(5)\n",
            "memory usage: 8.7+ KB\n"
          ]
        }
      ]
    },
    {
      "cell_type": "code",
      "source": [
        "#we will use this article at index 0 to see the different summarization models\n",
        "df['content'][0]"
      ],
      "metadata": {
        "colab": {
          "base_uri": "https://localhost:8080/",
          "height": 192
        },
        "id": "j7SoSavuU45i",
        "outputId": "e6168335-1ca6-43b9-e298-0c15b515ac7b"
      },
      "execution_count": 10,
      "outputs": [
        {
          "output_type": "execute_result",
          "data": {
            "text/plain": [
              "'WASHINGTON  —   Congressional Republicans have a new fear when it comes to their    health care lawsuit against the Obama administration: They might win. The incoming Trump administration could choose to no longer defend the executive branch against the suit, which challenges the administration’s authority to spend billions of dollars on health insurance subsidies for   and   Americans, handing House Republicans a big victory on    issues. But a sudden loss of the disputed subsidies could conceivably cause the health care program to implode, leaving millions of people without access to health insurance before Republicans have prepared a replacement. That could lead to chaos in the insurance market and spur a political backlash just as Republicans gain full control of the government. To stave off that outcome, Republicans could find themselves in the awkward position of appropriating huge sums to temporarily prop up the Obama health care law, angering conservative voters who have been demanding an end to the law for years. In another twist, Donald J. Trump’s administration, worried about preserving executive branch prerogatives, could choose to fight its Republican allies in the House on some central questions in the dispute. Eager to avoid an ugly political pileup, Republicans on Capitol Hill and the Trump transition team are gaming out how to handle the lawsuit, which, after the election, has been put in limbo until at least late February by the United States Court of Appeals for the District of Columbia Circuit. They are not yet ready to divulge their strategy. “Given that this pending litigation involves the Obama administration and Congress, it would be inappropriate to comment,” said Phillip J. Blando, a spokesman for the Trump transition effort. “Upon taking office, the Trump administration will evaluate this case and all related aspects of the Affordable Care Act. ” In a potentially   decision in 2015, Judge Rosemary M. Collyer ruled that House Republicans had the standing to sue the executive branch over a spending dispute and that the Obama administration had been distributing the health insurance subsidies, in violation of the Constitution, without approval from Congress. The Justice Department, confident that Judge Collyer’s decision would be reversed, quickly appealed, and the subsidies have remained in place during the appeal. In successfully seeking a temporary halt in the proceedings after Mr. Trump won, House Republicans last month told the court that they “and the  ’s transition team currently are discussing potential options for resolution of this matter, to take effect after the  ’s inauguration on Jan. 20, 2017. ” The suspension of the case, House lawyers said, will “provide the   and his future administration time to consider whether to continue prosecuting or to otherwise resolve this appeal. ” Republican leadership officials in the House acknowledge the possibility of “cascading effects” if the   payments, which have totaled an estimated $13 billion, are suddenly stopped. Insurers that receive the subsidies in exchange for paying    costs such as deductibles and   for eligible consumers could race to drop coverage since they would be losing money. Over all, the loss of the subsidies could destabilize the entire program and cause a lack of confidence that leads other insurers to seek a quick exit as well. Anticipating that the Trump administration might not be inclined to mount a vigorous fight against the House Republicans given the  ’s dim view of the health care law, a team of lawyers this month sought to intervene in the case on behalf of two participants in the health care program. In their request, the lawyers predicted that a deal between House Republicans and the new administration to dismiss or settle the case “will produce devastating consequences for the individuals who receive these reductions, as well as for the nation’s health insurance and health care systems generally. ” No matter what happens, House Republicans say, they want to prevail on two overarching concepts: the congressional power of the purse, and the right of Congress to sue the executive branch if it violates the Constitution regarding that spending power. House Republicans contend that Congress never appropriated the money for the subsidies, as required by the Constitution. In the suit, which was initially championed by John A. Boehner, the House speaker at the time, and later in House committee reports, Republicans asserted that the administration, desperate for the funding, had required the Treasury Department to provide it despite widespread internal skepticism that the spending was proper. The White House said that the spending was a permanent part of the law passed in 2010, and that no annual appropriation was required  —   even though the administration initially sought one. Just as important to House Republicans, Judge Collyer found that Congress had the standing to sue the White House on this issue  —   a ruling that many legal experts said was flawed  —   and they want that precedent to be set to restore congressional leverage over the executive branch. But on spending power and standing, the Trump administration may come under pressure from advocates of presidential authority to fight the House no matter their shared views on health care, since those precedents could have broad repercussions. It is a complicated set of dynamics illustrating how a quick legal victory for the House in the Trump era might come with costs that Republicans never anticipated when they took on the Obama White House.'"
            ],
            "application/vnd.google.colaboratory.intrinsic+json": {
              "type": "string"
            }
          },
          "metadata": {},
          "execution_count": 10
        }
      ]
    },
    {
      "cell_type": "markdown",
      "source": [
        "# T-5 Pre-Trained Model"
      ],
      "metadata": {
        "id": "hVkgpz0NQaxV"
      }
    },
    {
      "cell_type": "code",
      "source": [
        "# Load the abstractive summarization model and tokenizer\n",
        "tokenizer = AutoTokenizer.from_pretrained(\"t5-base\")\n",
        "model = AutoModelForSeq2SeqLM.from_pretrained(\"t5-base\")"
      ],
      "metadata": {
        "id": "ppXeN2hUL9dV"
      },
      "execution_count": 14,
      "outputs": []
    },
    {
      "cell_type": "code",
      "source": [
        "# Preprocess the news articles by encoding them as input_ids and attention_mask\n",
        "inputs = tokenizer(df['content'][0], padding=True, truncation=True, max_length=512, return_tensors='pt')\n",
        "\n",
        "# Generate summaries for each news article\n",
        "outputs = model.generate(inputs['input_ids'], attention_mask=inputs['attention_mask'], max_length=150, num_beams=4, early_stopping=True)\n",
        "\n",
        "# Decode the summaries from the output_ids\n",
        "summaries = [tokenizer.decode(output, skip_special_tokens=True) for output in outputs]\n",
        "\n",
        "summaries"
      ],
      "metadata": {
        "id": "PX7hzbGBLzWC",
        "colab": {
          "base_uri": "https://localhost:8080/"
        },
        "outputId": "2bd1d454-466b-403b-9ea0-fd6d47b6e8b0"
      },
      "execution_count": 9,
      "outputs": [
        {
          "output_type": "execute_result",
          "data": {
            "text/plain": [
              "['a sudden loss of the disputed subsidies could conceivably cause the health care program to implode. that could lead to chaos in the insurance market and spur a political backlash just as Republicans gain full control of the government. a sudden loss of the disputed subsidies could conceivably cause the health care program to implode.']"
            ]
          },
          "metadata": {},
          "execution_count": 9
        }
      ]
    },
    {
      "cell_type": "markdown",
      "source": [
        "# BART Pre-Trained Model"
      ],
      "metadata": {
        "id": "vsSMr-iPRV-r"
      }
    },
    {
      "cell_type": "code",
      "source": [
        "# Load the abstractive summarization model and tokenizer\n",
        "tokenizer = BartTokenizer.from_pretrained('facebook/bart-large-cnn') \n",
        "model = BartForConditionalGeneration.from_pretrained('facebook/bart-large-cnn') "
      ],
      "metadata": {
        "id": "LTbHQogTM30O"
      },
      "execution_count": 15,
      "outputs": []
    },
    {
      "cell_type": "code",
      "source": [
        "\n",
        "# Preprocess the news articles by encoding them as input_ids and attention_mask\n",
        "input_ids = tokenizer(df['content'][0], padding=True, truncation=True, max_length=1024, return_tensors='pt').input_ids\n",
        "\n",
        "# Generate summaries for each news article\n",
        "outputs = model.generate(input_ids, max_length=150, num_beams=4, length_penalty=2.0)\n",
        "\n",
        "# Decode the summaries from the output_ids\n",
        "summaries = [tokenizer.decode(output, skip_special_tokens=True) for output in outputs]\n",
        "\n",
        "summaries"
      ],
      "metadata": {
        "id": "80iIdQjHQpm-",
        "colab": {
          "base_uri": "https://localhost:8080/"
        },
        "outputId": "d54f3c73-96cd-40b2-e132-63e43013be06"
      },
      "execution_count": 12,
      "outputs": [
        {
          "output_type": "execute_result",
          "data": {
            "text/plain": [
              "['House Republicans have a new fear when it comes to their health care lawsuit against the Obama administration. The incoming Trump administration could choose to no longer defend the executive branch. A sudden loss of the disputed subsidies could conceivably cause the health care program to implode. That could lead to chaos in the insurance market and spur a political backlash.']"
            ]
          },
          "metadata": {},
          "execution_count": 12
        }
      ]
    },
    {
      "cell_type": "markdown",
      "source": [
        "# XML Transformers"
      ],
      "metadata": {
        "id": "mlum5zlLR4Oz"
      }
    },
    {
      "cell_type": "code",
      "source": [
        "# Load the tokenizer and model\n",
        "tokenizer = XLMTokenizer.from_pretrained('xlm-mlm-tlm-xnli15-1024')\n",
        "model = XLMWithLMHeadModel.from_pretrained('xlm-mlm-tlm-xnli15-1024')"
      ],
      "metadata": {
        "colab": {
          "base_uri": "https://localhost:8080/"
        },
        "id": "NBgKTIGqYBfa",
        "outputId": "9e2a99c3-5201-4bb3-8a98-39ab60a8cbb4"
      },
      "execution_count": 5,
      "outputs": [
        {
          "output_type": "stream",
          "name": "stderr",
          "text": [
            "Some weights of XLMWithLMHeadModel were not initialized from the model checkpoint at xlm-mlm-tlm-xnli15-1024 and are newly initialized: ['transformer.position_ids']\n",
            "You should probably TRAIN this model on a down-stream task to be able to use it for predictions and inference.\n"
          ]
        }
      ]
    },
    {
      "cell_type": "code",
      "source": [
        "\n",
        "# Set max_length\n",
        "max_length = 512\n",
        "\n",
        "# Split text into chunks\n",
        "text = df['content'][0]\n",
        "text_chunks = [text[i:i+max_length] for i in range(0, len(text), max_length)]\n",
        "\n",
        "\n",
        "# Summarize each chunk\n",
        "summaries = []\n",
        "for chunk in text_chunks:\n",
        "    inputs = tokenizer.batch_encode_plus([chunk], return_tensors='pt', max_length=max_length)\n",
        "    summary_ids = model.generate(inputs['input_ids'], early_stopping=True)\n",
        "    summary = tokenizer.decode(summary_ids[0], skip_special_tokens=True)\n",
        "    summaries.append(summary)\n",
        "\n",
        "# Combine summaries\n",
        "XLM_summary = ' '.join(summaries)\n",
        "\n",
        "print(XLM_summary)"
      ],
      "metadata": {
        "id": "EF8bKhprY47y",
        "colab": {
          "base_uri": "https://localhost:8080/"
        },
        "outputId": "8be67d6b-2010-464d-b7bd-b50390e425ac"
      },
      "execution_count": 11,
      "outputs": [
        {
          "output_type": "stream",
          "name": "stderr",
          "text": [
            "Input length of input_ids is 102, but `max_length` is set to 20. This can lead to unexpected behavior. You should consider increasing `max_new_tokens`.\n",
            "Input length of input_ids is 112, but `max_length` is set to 20. This can lead to unexpected behavior. You should consider increasing `max_new_tokens`.\n",
            "Input length of input_ids is 117, but `max_length` is set to 20. This can lead to unexpected behavior. You should consider increasing `max_new_tokens`.\n",
            "Input length of input_ids is 121, but `max_length` is set to 20. This can lead to unexpected behavior. You should consider increasing `max_new_tokens`.\n",
            "Input length of input_ids is 113, but `max_length` is set to 20. This can lead to unexpected behavior. You should consider increasing `max_new_tokens`.\n",
            "Input length of input_ids is 119, but `max_length` is set to 20. This can lead to unexpected behavior. You should consider increasing `max_new_tokens`.\n",
            "Input length of input_ids is 118, but `max_length` is set to 20. This can lead to unexpected behavior. You should consider increasing `max_new_tokens`.\n",
            "Input length of input_ids is 116, but `max_length` is set to 20. This can lead to unexpected behavior. You should consider increasing `max_new_tokens`.\n",
            "Input length of input_ids is 115, but `max_length` is set to 20. This can lead to unexpected behavior. You should consider increasing `max_new_tokens`.\n",
            "Input length of input_ids is 114, but `max_length` is set to 20. This can lead to unexpected behavior. You should consider increasing `max_new_tokens`.\n",
            "Input length of input_ids is 103, but `max_length` is set to 20. This can lead to unexpected behavior. You should consider increasing `max_new_tokens`.\n"
          ]
        },
        {
          "output_type": "stream",
          "name": "stdout",
          "text": [
            "washington - congressional republicans have a new fear when it comes to their health care lawsuit against the obama administration : they might win. the incoming trump administration could choose to no longer defend the executive branch against the suit, which challenges the administration's authority to spend billions of dollars on health insurance subsidies for and americans, handing house republicans a big victory on issues. but a sudden loss of the disputed subsidies could conceivably cause obama the health care program to implode, leaving millions of people without access to health insurance before republicans have prepared a replacement. that could lead to chaos in the insurance market and spur a political backlash just as republicans gain full control of the government. to stave off that outcome, republicans could find themselves in the awkward position of appropriating huge sums to temporarily prop up the obama health care law, angering conservative voters who have been demanding an end to the l obama aw for years. in another twist, donald j. trump's administration, worried about preserving executive branch prerogatives, could choose to fight its republican allies in the house on some central questions in the dispute. eager to avoid an ugly political pileup, republicans on capitol hill and the trump transition team are gaming out how to handle the lawsuit, which, after the election, has been put in limbo until at least late february by the united states court of appeals for the district of columbia circu u.s. it. they are not yet ready to divulge their strategy. \" given that this pending litigation involves the obama administration and congress, it would be inappropriate to comment, \" said phillip j. blando, a spokesman for the trump transition effort. \" upon taking office, the trump administration will evaluate this case and all related aspects of the affordable care act. \" in a potentially decision in 2015, judge rosemary m. collyer ruled that house republicans had the standing to sue the executive branch over their a spending dispute and that the obama administration had been distributing the health insurance subsidies, in violation of the constitution, without approval from congress. the justice department, confident that judge collyer's decision would be reversed, quickly appealed, and the subsidies have remained in place during the appeal. in successfully seeking a temporary halt in the proceedings after mr. trump won, house republicans last month told the court that they \" and the's transition team currently are working discussing potential options for resolution of this matter, to take effect after the's inauguration on jan. 20, 2017. \" the suspension of the case, house lawyers said, will \" provide the and his future administration time to consider whether to continue prosecuting or to otherwise resolve this appeal. \" republican leadership officials in the house acknowledge the possibility of \" cascading effects \" if the payments, which have totaled an estimated $ 13 billion, are suddenly stopped. insurers that receive money the subsidies in exchange for paying costs such as deductibles and for eligible consumers could race to drop coverage since they would be losing money. over all, the loss of the subsidies could destabilize the entire program and cause a lack of confidence that leads other insurers to seek a quick exit as well. anticipating that the trump administration might not be inclined to mount a vigorous fight against the house republicans given the's dim view of the health care law, a team of lawyers this mont formed h sought to intervene in the case on behalf of two participants in the health care program. in their request, the lawyers predicted that a deal between house republicans and the new administration to dismiss or settle the case \" will produce devastating consequences for the individuals who receive these reductions, as well as for the nation's health insurance and health care systems generally. \" no matter what happens, house republicans say, they want to prevail on two overarching concepts : the congressional and power of the purse, and the right of congress to sue the executive branch if it violates the constitution regarding that spending power. house republicans contend that congress never appropriated the money for the subsidies, as required by the constitution. in the suit, which was initially championed by john a. boehner, the house speaker at the time, and later in house committee reports, republicans asserted that the administration, desperate for the funding, had required the treasury department to provide the it despite widespread internal skepticism that the spending was proper. the white house said that the spending was a permanent part of the law passed in 2010, and that no annual appropriation was required - even though the administration initially sought one. just as important to house republicans, judge collyer found that congress had the standing to sue the white house on this issue - a ruling that many legal experts said was flawed - and they want that precedent to be set to restore congression … al leverage over the executive branch. but on spending power and standing, the trump administration may come under pressure from advocates of presidential authority to fight the house no matter their shared views on health care, since those precedents could have broad repercussions. it is a complicated set of dynamics illustrating how a quick legal victory for the house in the trump era might come with costs that republicans never anticipated when they took on the obama white house. see\n"
          ]
        }
      ]
    },
    {
      "cell_type": "code",
      "source": [],
      "metadata": {
        "id": "zTuA9q7Uih7w"
      },
      "execution_count": null,
      "outputs": []
    }
  ]
}